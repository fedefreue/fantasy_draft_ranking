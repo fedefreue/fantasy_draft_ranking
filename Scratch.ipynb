{
 "cells": [
  {
   "cell_type": "code",
   "execution_count": 11,
   "metadata": {},
   "outputs": [],
   "source": [
    "from yahoo_oauth import OAuth2\n",
    "import pandas as pd\n",
    "import numpy as np\n",
    "import yahoo_fantasy_api as yfa\n",
    "import tensorflow as tf\n",
    "\n",
    "#https://yahoo-fantasy-api.readthedocs.io/en/latest/yahoo_fantasy_api.html#the-league-class"
   ]
  },
  {
   "cell_type": "code",
   "execution_count": 2,
   "metadata": {
    "tags": []
   },
   "outputs": [
    {
     "output_type": "stream",
     "name": "stderr",
     "text": "[2020-08-16 21:35:12,937 DEBUG] [yahoo_oauth.oauth.__init__] Checking \n[2020-08-16 21:35:12,940 DEBUG] [yahoo_oauth.oauth.token_is_valid] ELAPSED TIME : 1902.2426507472992\n[2020-08-16 21:35:12,941 DEBUG] [yahoo_oauth.oauth.token_is_valid] TOKEN IS STILL VALID\n[2020-08-16 21:35:12,943 DEBUG] [yahoo_oauth.oauth.token_is_valid] ELAPSED TIME : 1902.245591878891\n[2020-08-16 21:35:12,944 DEBUG] [yahoo_oauth.oauth.token_is_valid] TOKEN IS STILL VALID\n"
    }
   ],
   "source": [
    "conn = OAuth2(None, None, from_file='private.json')\n",
    "#conn.refresh_access_token()\n",
    "\n",
    "if not conn.token_is_valid():\n",
    "    conn.refresh_access_token()"
   ]
  },
  {
   "cell_type": "code",
   "execution_count": 3,
   "metadata": {},
   "outputs": [],
   "source": [
    "league = yfa.League(conn,'nfl.l.254924')\n",
    "#free_agents = pd.DataFrame(league.free_agents('RB'))\n",
    "##get the free agents\n",
    "#list_free_agents = list(free_agents['player_id'])\n",
    "\n",
    "#players = pd.DataFrame(league.player_stats(list_free_agents, 'season', season=2019))\n",
    "#pd.DataFrame(league.player_details('Lamar Jackson'))\n",
    "\n"
   ]
  },
  {
   "cell_type": "code",
   "execution_count": 12,
   "metadata": {
    "tags": []
   },
   "outputs": [
    {
     "output_type": "execute_result",
     "data": {
      "text/plain": "\"\\nthisSeasonStats = pd.DataFrame(league.player_stats(list_free_agents, 'season', season = thisSeason))\\n\\n# Calculate offensive points\\nthisSeasonStats['Points'] = thisSeasonStats['Pass Yds'] * points['Pass Yds'] + thisSeasonStats['Pass TD'] * points['Pass TD'] + thisSeasonStats['Int'] * points['Int'] + thisSeasonStats['Rush Att'] * points['Rush Att'] + thisSeasonStats['Rush TD'] * points['Rush TD'] + thisSeasonStats['Rec'] * points['Rec'] + thisSeasonStats['Rec Yds'] * points['Rec Yds'] + thisSeasonStats['Rec TD'] * points['Rec TD'] + thisSeasonStats['Ret TD'] * points['Ret TD'] + thisSeasonStats['2-PT'] * points['2-PT'] + thisSeasonStats['Fum Lost'] * points['Fum Lost'] + thisSeasonStats['Fum Ret TD'] * points['Fum Ret TD'] \\n\\nthisSeasonPoints = thisSeasonStats[['player_id','Points']].copy()\\nthisSeasonPoints\\n\\nlastSeasonStats = pd.DataFrame(league.player_stats(list_free_agents, 'season', season = priorSeason))\\n\""
     },
     "metadata": {},
     "execution_count": 12
    }
   ],
   "source": [
    "# Grab season stats and calculate points\n",
    "# Join points to prior season\n",
    "\n",
    "#thisSeason = 2018\n",
    "#priorSeason = thisSeason - 1\n",
    "\n",
    "points = {\n",
    "    'Pass Yds': 0.04,\n",
    "    'Pass TD': 4,\n",
    "    'Int': -1,\n",
    "    'Rush Att': 0.1,\n",
    "    'Rush TD': 6,\n",
    "    'Rec': 1,\n",
    "    'Rec Yds': 0.1,\n",
    "    'Rec TD': 6,\n",
    "    'Ret TD': 6,\n",
    "    '2-PT': 2,\n",
    "    'Fum Lost': -2,\n",
    "    'Fum Ret TD': 2\n",
    "}\n",
    "\"\"\"\n",
    "thisSeasonStats = pd.DataFrame(league.player_stats(list_free_agents, 'season', season = thisSeason))\n",
    "\n",
    "# Calculate offensive points\n",
    "thisSeasonStats['Points'] = thisSeasonStats['Pass Yds'] * points['Pass Yds'] + thisSeasonStats['Pass TD'] * points['Pass TD'] + thisSeasonStats['Int'] * points['Int'] + thisSeasonStats['Rush Att'] * points['Rush Att'] + thisSeasonStats['Rush TD'] * points['Rush TD'] + thisSeasonStats['Rec'] * points['Rec'] + thisSeasonStats['Rec Yds'] * points['Rec Yds'] + thisSeasonStats['Rec TD'] * points['Rec TD'] + thisSeasonStats['Ret TD'] * points['Ret TD'] + thisSeasonStats['2-PT'] * points['2-PT'] + thisSeasonStats['Fum Lost'] * points['Fum Lost'] + thisSeasonStats['Fum Ret TD'] * points['Fum Ret TD'] \n",
    "\n",
    "thisSeasonPoints = thisSeasonStats[['player_id','Points']].copy()\n",
    "thisSeasonPoints\n",
    "\n",
    "lastSeasonStats = pd.DataFrame(league.player_stats(list_free_agents, 'season', season = priorSeason))\n",
    "\"\"\""
   ]
  },
  {
   "cell_type": "code",
   "execution_count": 10,
   "metadata": {
    "tags": []
   },
   "outputs": [
    {
     "output_type": "execute_result",
     "data": {
      "text/plain": "     player_id  Points position_type  Pass Yds  Pass TD  Int  Rush Att  \\\n0         7241    46.0             O       0.0      0.0  0.0       0.0   \n1         8261   109.9             O       0.0      0.0  0.0       0.0   \n2         9317    91.9             O       0.0      0.0  0.0       0.0   \n3        24760    42.7             O       0.0      0.0  0.0       0.0   \n4        24815    91.8             O       0.0      0.0  0.0       0.0   \n..         ...     ...           ...       ...      ...  ...       ...   \n199      33281     0.0             O       0.0      0.0  0.0       0.0   \n200      33297     0.0             O       0.0      0.0  0.0       0.0   \n201      33309     0.0             O       0.0      0.0  0.0       0.0   \n202      33345     0.0             O       0.0      0.0  0.0       0.0   \n203      33357     0.0             O       0.0      0.0  0.0       0.0   \n\n     Rush Yds  Rush TD  Rec  Rec Yds  Rec TD  Ret TD  2-PT  Fum Lost  \\\n0         0.0      0.0  0.0      0.0     0.0     0.0   0.0       0.0   \n1         0.0      0.0  0.0      0.0     0.0     0.0   0.0       0.0   \n2         0.0      0.0  0.0      0.0     0.0     0.0   0.0       0.0   \n3         0.0      0.0  0.0      0.0     0.0     0.0   0.0       0.0   \n4         0.0      0.0  0.0      0.0     0.0     0.0   0.0       0.0   \n..        ...      ...  ...      ...     ...     ...   ...       ...   \n199       0.0      0.0  0.0      0.0     0.0     0.0   0.0       0.0   \n200       0.0      0.0  0.0      0.0     0.0     0.0   0.0       0.0   \n201       0.0      0.0  0.0      0.0     0.0     0.0   0.0       0.0   \n202       0.0      0.0  0.0      0.0     0.0     0.0   0.0       0.0   \n203       0.0      0.0  0.0      0.0     0.0     0.0   0.0       0.0   \n\n     Fum Ret TD  Targets  \n0           0.0      0.0  \n1           0.0      0.0  \n2           0.0      0.0  \n3           0.0      0.0  \n4           0.0      0.0  \n..          ...      ...  \n199         0.0      0.0  \n200         0.0      0.0  \n201         0.0      0.0  \n202         0.0      0.0  \n203         0.0      0.0  \n\n[204 rows x 17 columns]",
      "text/html": "<div>\n<style scoped>\n    .dataframe tbody tr th:only-of-type {\n        vertical-align: middle;\n    }\n\n    .dataframe tbody tr th {\n        vertical-align: top;\n    }\n\n    .dataframe thead th {\n        text-align: right;\n    }\n</style>\n<table border=\"1\" class=\"dataframe\">\n  <thead>\n    <tr style=\"text-align: right;\">\n      <th></th>\n      <th>player_id</th>\n      <th>Points</th>\n      <th>position_type</th>\n      <th>Pass Yds</th>\n      <th>Pass TD</th>\n      <th>Int</th>\n      <th>Rush Att</th>\n      <th>Rush Yds</th>\n      <th>Rush TD</th>\n      <th>Rec</th>\n      <th>Rec Yds</th>\n      <th>Rec TD</th>\n      <th>Ret TD</th>\n      <th>2-PT</th>\n      <th>Fum Lost</th>\n      <th>Fum Ret TD</th>\n      <th>Targets</th>\n    </tr>\n  </thead>\n  <tbody>\n    <tr>\n      <th>0</th>\n      <td>7241</td>\n      <td>46.0</td>\n      <td>O</td>\n      <td>0.0</td>\n      <td>0.0</td>\n      <td>0.0</td>\n      <td>0.0</td>\n      <td>0.0</td>\n      <td>0.0</td>\n      <td>0.0</td>\n      <td>0.0</td>\n      <td>0.0</td>\n      <td>0.0</td>\n      <td>0.0</td>\n      <td>0.0</td>\n      <td>0.0</td>\n      <td>0.0</td>\n    </tr>\n    <tr>\n      <th>1</th>\n      <td>8261</td>\n      <td>109.9</td>\n      <td>O</td>\n      <td>0.0</td>\n      <td>0.0</td>\n      <td>0.0</td>\n      <td>0.0</td>\n      <td>0.0</td>\n      <td>0.0</td>\n      <td>0.0</td>\n      <td>0.0</td>\n      <td>0.0</td>\n      <td>0.0</td>\n      <td>0.0</td>\n      <td>0.0</td>\n      <td>0.0</td>\n      <td>0.0</td>\n    </tr>\n    <tr>\n      <th>2</th>\n      <td>9317</td>\n      <td>91.9</td>\n      <td>O</td>\n      <td>0.0</td>\n      <td>0.0</td>\n      <td>0.0</td>\n      <td>0.0</td>\n      <td>0.0</td>\n      <td>0.0</td>\n      <td>0.0</td>\n      <td>0.0</td>\n      <td>0.0</td>\n      <td>0.0</td>\n      <td>0.0</td>\n      <td>0.0</td>\n      <td>0.0</td>\n      <td>0.0</td>\n    </tr>\n    <tr>\n      <th>3</th>\n      <td>24760</td>\n      <td>42.7</td>\n      <td>O</td>\n      <td>0.0</td>\n      <td>0.0</td>\n      <td>0.0</td>\n      <td>0.0</td>\n      <td>0.0</td>\n      <td>0.0</td>\n      <td>0.0</td>\n      <td>0.0</td>\n      <td>0.0</td>\n      <td>0.0</td>\n      <td>0.0</td>\n      <td>0.0</td>\n      <td>0.0</td>\n      <td>0.0</td>\n    </tr>\n    <tr>\n      <th>4</th>\n      <td>24815</td>\n      <td>91.8</td>\n      <td>O</td>\n      <td>0.0</td>\n      <td>0.0</td>\n      <td>0.0</td>\n      <td>0.0</td>\n      <td>0.0</td>\n      <td>0.0</td>\n      <td>0.0</td>\n      <td>0.0</td>\n      <td>0.0</td>\n      <td>0.0</td>\n      <td>0.0</td>\n      <td>0.0</td>\n      <td>0.0</td>\n      <td>0.0</td>\n    </tr>\n    <tr>\n      <th>...</th>\n      <td>...</td>\n      <td>...</td>\n      <td>...</td>\n      <td>...</td>\n      <td>...</td>\n      <td>...</td>\n      <td>...</td>\n      <td>...</td>\n      <td>...</td>\n      <td>...</td>\n      <td>...</td>\n      <td>...</td>\n      <td>...</td>\n      <td>...</td>\n      <td>...</td>\n      <td>...</td>\n      <td>...</td>\n    </tr>\n    <tr>\n      <th>199</th>\n      <td>33281</td>\n      <td>0.0</td>\n      <td>O</td>\n      <td>0.0</td>\n      <td>0.0</td>\n      <td>0.0</td>\n      <td>0.0</td>\n      <td>0.0</td>\n      <td>0.0</td>\n      <td>0.0</td>\n      <td>0.0</td>\n      <td>0.0</td>\n      <td>0.0</td>\n      <td>0.0</td>\n      <td>0.0</td>\n      <td>0.0</td>\n      <td>0.0</td>\n    </tr>\n    <tr>\n      <th>200</th>\n      <td>33297</td>\n      <td>0.0</td>\n      <td>O</td>\n      <td>0.0</td>\n      <td>0.0</td>\n      <td>0.0</td>\n      <td>0.0</td>\n      <td>0.0</td>\n      <td>0.0</td>\n      <td>0.0</td>\n      <td>0.0</td>\n      <td>0.0</td>\n      <td>0.0</td>\n      <td>0.0</td>\n      <td>0.0</td>\n      <td>0.0</td>\n      <td>0.0</td>\n    </tr>\n    <tr>\n      <th>201</th>\n      <td>33309</td>\n      <td>0.0</td>\n      <td>O</td>\n      <td>0.0</td>\n      <td>0.0</td>\n      <td>0.0</td>\n      <td>0.0</td>\n      <td>0.0</td>\n      <td>0.0</td>\n      <td>0.0</td>\n      <td>0.0</td>\n      <td>0.0</td>\n      <td>0.0</td>\n      <td>0.0</td>\n      <td>0.0</td>\n      <td>0.0</td>\n      <td>0.0</td>\n    </tr>\n    <tr>\n      <th>202</th>\n      <td>33345</td>\n      <td>0.0</td>\n      <td>O</td>\n      <td>0.0</td>\n      <td>0.0</td>\n      <td>0.0</td>\n      <td>0.0</td>\n      <td>0.0</td>\n      <td>0.0</td>\n      <td>0.0</td>\n      <td>0.0</td>\n      <td>0.0</td>\n      <td>0.0</td>\n      <td>0.0</td>\n      <td>0.0</td>\n      <td>0.0</td>\n      <td>0.0</td>\n    </tr>\n    <tr>\n      <th>203</th>\n      <td>33357</td>\n      <td>0.0</td>\n      <td>O</td>\n      <td>0.0</td>\n      <td>0.0</td>\n      <td>0.0</td>\n      <td>0.0</td>\n      <td>0.0</td>\n      <td>0.0</td>\n      <td>0.0</td>\n      <td>0.0</td>\n      <td>0.0</td>\n      <td>0.0</td>\n      <td>0.0</td>\n      <td>0.0</td>\n      <td>0.0</td>\n      <td>0.0</td>\n    </tr>\n  </tbody>\n</table>\n<p>204 rows × 17 columns</p>\n</div>"
     },
     "metadata": {},
     "execution_count": 10
    }
   ],
   "source": [
    "# join both tables together\n",
    "df = thisSeasonPoints.merge(lastSeasonStats, on = 'player_id')\n",
    "\n",
    "# drop name\n",
    "df.drop(columns = ['name'])"
   ]
  },
  {
   "cell_type": "code",
   "execution_count": 13,
   "metadata": {
    "tags": []
   },
   "outputs": [],
   "source": [
    "def pullStatsAndPoints(season: int, league: yfa.League, points: dict, position: str):\n",
    "    freeAgents = pd.DataFrame(league.free_agents(position))\n",
    "    freeAgentList = list(freeAgents['player_id'])\n",
    "    # freeAgentList = [i for i in range(100,50000)]\n",
    "    priorSeason = season - 1\n",
    "\n",
    "\n",
    "    thisSeasonStats = pd.DataFrame(league.player_stats(freeAgentList, 'season', season = season))\n",
    "\n",
    "    # Calculate offensive points\n",
    "    thisSeasonStats['Points'] = thisSeasonStats['Pass Yds'] * points['Pass Yds'] + thisSeasonStats['Pass TD'] * points['Pass TD'] + thisSeasonStats['Int'] * points['Int'] + thisSeasonStats['Rush Att'] * points['Rush Att'] + thisSeasonStats['Rush TD'] * points['Rush TD'] + thisSeasonStats['Rec'] * points['Rec'] + thisSeasonStats['Rec Yds'] * points['Rec Yds'] + thisSeasonStats['Rec TD'] * points['Rec TD'] + thisSeasonStats['Ret TD'] * points['Ret TD'] + thisSeasonStats['2-PT'] * points['2-PT'] + thisSeasonStats['Fum Lost'] * points['Fum Lost'] + thisSeasonStats['Fum Ret TD'] * points['Fum Ret TD'] \n",
    "\n",
    "    thisSeasonPoints = thisSeasonStats[['player_id','Points']].copy()\n",
    "    \n",
    "    lastSeasonStats = pd.DataFrame(league.player_stats(freeAgentList, 'season', season = priorSeason))\n",
    "    df = thisSeasonPoints.merge(lastSeasonStats, on = 'player_id')\n",
    "    df = df.drop(columns = ['name'])    \n",
    "\n",
    "    return df\n",
    "\n",
    "masterTable = pd.DataFrame()\n",
    "seasonList = [2018, 2019]\n",
    "for s in seasonList:\n",
    "    interimTable = pullStatsAndPoints(s, league, points, 'RB')\n",
    "    masterTable = masterTable.append(interimTable)\n",
    "\n",
    "# Remove 0 rows\n",
    "masterTable = masterTable.loc[masterTable['Points'] != 0]\n",
    "#masterTable"
   ]
  },
  {
   "cell_type": "code",
   "execution_count": 20,
   "metadata": {
    "tags": []
   },
   "outputs": [
    {
     "output_type": "stream",
     "name": "stdout",
     "text": "0.22033063872223435\n[ 3.15246300e+00  2.10456458e+01 -2.30852035e+01 -4.78419846e-01\n  1.03087234e-01  5.96731849e+00  1.08754936e-01 -2.71924839e-02\n  8.56980094e+00 -2.02504680e-13 -1.31295989e+01  7.65977395e-02\n  0.00000000e+00  2.62930880e-01]\n"
    }
   ],
   "source": [
    "import sklearn.linear_model as sklearn\n",
    "\n",
    "x = masterTable.drop(columns = ['player_id', 'position_type', 'Points'])\n",
    "y = masterTable['Points']\n",
    "\n",
    "reg = sklearn.LinearRegression().fit(x, y)\n",
    "print(reg.score(x, y))\n",
    "print(reg.coef_)"
   ]
  },
  {
   "cell_type": "code",
   "execution_count": 28,
   "metadata": {
    "tags": []
   },
   "outputs": [
    {
     "output_type": "execute_result",
     "data": {
      "text/plain": "     player_id                 name      Points\n22       27658          James White  213.259288\n59       30121  Christian McCaffrey  195.790502\n72       30295          Aaron Jones  187.330537\n40       29279        Derrick Henry  186.138207\n94       31135       Jaylen Samuels  156.966420\n..         ...                  ...         ...\n111      31567           Josh Adams   54.241999\n0         7241           Frank Gore   53.999967\n149      32559    Tony Brooks-James   53.726563\n13       26671         Le'Veon Bell   49.524731\n144      32439        Patrick Laird   42.168679\n\n[203 rows x 3 columns]",
      "text/html": "<div>\n<style scoped>\n    .dataframe tbody tr th:only-of-type {\n        vertical-align: middle;\n    }\n\n    .dataframe tbody tr th {\n        vertical-align: top;\n    }\n\n    .dataframe thead th {\n        text-align: right;\n    }\n</style>\n<table border=\"1\" class=\"dataframe\">\n  <thead>\n    <tr style=\"text-align: right;\">\n      <th></th>\n      <th>player_id</th>\n      <th>name</th>\n      <th>Points</th>\n    </tr>\n  </thead>\n  <tbody>\n    <tr>\n      <th>22</th>\n      <td>27658</td>\n      <td>James White</td>\n      <td>213.259288</td>\n    </tr>\n    <tr>\n      <th>59</th>\n      <td>30121</td>\n      <td>Christian McCaffrey</td>\n      <td>195.790502</td>\n    </tr>\n    <tr>\n      <th>72</th>\n      <td>30295</td>\n      <td>Aaron Jones</td>\n      <td>187.330537</td>\n    </tr>\n    <tr>\n      <th>40</th>\n      <td>29279</td>\n      <td>Derrick Henry</td>\n      <td>186.138207</td>\n    </tr>\n    <tr>\n      <th>94</th>\n      <td>31135</td>\n      <td>Jaylen Samuels</td>\n      <td>156.966420</td>\n    </tr>\n    <tr>\n      <th>...</th>\n      <td>...</td>\n      <td>...</td>\n      <td>...</td>\n    </tr>\n    <tr>\n      <th>111</th>\n      <td>31567</td>\n      <td>Josh Adams</td>\n      <td>54.241999</td>\n    </tr>\n    <tr>\n      <th>0</th>\n      <td>7241</td>\n      <td>Frank Gore</td>\n      <td>53.999967</td>\n    </tr>\n    <tr>\n      <th>149</th>\n      <td>32559</td>\n      <td>Tony Brooks-James</td>\n      <td>53.726563</td>\n    </tr>\n    <tr>\n      <th>13</th>\n      <td>26671</td>\n      <td>Le'Veon Bell</td>\n      <td>49.524731</td>\n    </tr>\n    <tr>\n      <th>144</th>\n      <td>32439</td>\n      <td>Patrick Laird</td>\n      <td>42.168679</td>\n    </tr>\n  </tbody>\n</table>\n<p>203 rows × 3 columns</p>\n</div>"
     },
     "metadata": {},
     "execution_count": 28
    }
   ],
   "source": [
    "#conn = OAuth2(None, None, from_file='private.json')\n",
    "\n",
    "#if not conn.token_is_valid():\n",
    "    #conn.refresh_access_token()\n",
    "\n",
    "league = yfa.League(conn,'nfl.l.254924')\n",
    "\n",
    "players = pd.DataFrame(league.free_agents('RB'))\n",
    "playerList = list(players['player_id'])\n",
    "thisSeasonStats = pd.DataFrame(league.player_stats(playerList, 'season', season = 2019))\n",
    "thisSeasonStats_train = thisSeasonStats.drop(columns = ['player_id', 'position_type', 'name'])\n",
    "#reg.predict(features)\n",
    "\n",
    "points = reg.predict(thisSeasonStats_train)\n",
    "thisSeasonStats['Points'] = points\n",
    "thisSeasonStats[['player_id', 'name', 'Points']].sort_values(by = ['Points'], ascending = False)\n"
   ]
  },
  {
   "cell_type": "code",
   "execution_count": null,
   "metadata": {},
   "outputs": [],
   "source": []
  }
 ],
 "metadata": {
  "kernelspec": {
   "display_name": "Python 3.7.7 64-bit ('tf': conda)",
   "language": "python",
   "name": "python37764bittfconda701f652fe2d24b1db31e20597dd7d119"
  },
  "language_info": {
   "codemirror_mode": {
    "name": "ipython",
    "version": 3
   },
   "file_extension": ".py",
   "mimetype": "text/x-python",
   "name": "python",
   "nbconvert_exporter": "python",
   "pygments_lexer": "ipython3",
   "version": "3.7.7-final"
  }
 },
 "nbformat": 4,
 "nbformat_minor": 4
}