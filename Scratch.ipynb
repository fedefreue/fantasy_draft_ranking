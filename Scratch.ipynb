{
 "cells": [
  {
   "cell_type": "code",
   "execution_count": 1,
   "metadata": {},
   "outputs": [],
   "source": [
    "from yahoo_oauth import OAuth2\n",
    "import pandas as pd"
   ]
  },
  {
   "cell_type": "code",
   "execution_count": 2,
   "metadata": {
    "tags": []
   },
   "outputs": [
    {
     "output_type": "stream",
     "name": "stderr",
     "text": "[2020-08-16 16:09:01,543 DEBUG] [yahoo_oauth.oauth.__init__] Checking \n[2020-08-16 16:09:01,544 DEBUG] [yahoo_oauth.oauth.token_is_valid] ELAPSED TIME : 82.90619587898254\n[2020-08-16 16:09:01,545 DEBUG] [yahoo_oauth.oauth.token_is_valid] TOKEN IS STILL VALID\n[2020-08-16 16:09:01,547 DEBUG] [yahoo_oauth.oauth.token_is_valid] ELAPSED TIME : 82.90891981124878\n[2020-08-16 16:09:01,548 DEBUG] [yahoo_oauth.oauth.token_is_valid] TOKEN IS STILL VALID\n"
    }
   ],
   "source": [
    "conn = OAuth2(None, None, from_file='private.json')\n",
    "if not conn.token_is_valid():\n",
    "    conn.refresh_access_token()"
   ]
  },
  {
   "cell_type": "code",
   "execution_count": 5,
   "metadata": {},
   "outputs": [
    {
     "output_type": "execute_result",
     "data": {
      "text/plain": "                                              player\n0  [[{'player_key': '399.p.7200'}, {'player_id': ...",
      "text/html": "<div>\n<style scoped>\n    .dataframe tbody tr th:only-of-type {\n        vertical-align: middle;\n    }\n\n    .dataframe tbody tr th {\n        vertical-align: top;\n    }\n\n    .dataframe thead th {\n        text-align: right;\n    }\n</style>\n<table border=\"1\" class=\"dataframe\">\n  <thead>\n    <tr style=\"text-align: right;\">\n      <th></th>\n      <th>player</th>\n    </tr>\n  </thead>\n  <tbody>\n    <tr>\n      <th>0</th>\n      <td>[[{'player_key': '399.p.7200'}, {'player_id': ...</td>\n    </tr>\n  </tbody>\n</table>\n</div>"
     },
     "metadata": {},
     "execution_count": 5
    }
   ],
   "source": [
    "url = 'https://fantasysports.yahooapis.com/fantasy/v2/league/nfl.l.254924/players;status=A'\n",
    "r = conn.session.get(url, params={'format': 'json'})\n",
    "\n",
    "data = r.json()\n",
    "clean_data = data['fantasy_content']['league'][1]['players']\n",
    "#print(data['fantasy_content']['league'][1]['players'])\n",
    "\n",
    "player_data = pd.json_normalize(clean_data['11'])\n",
    "\n",
    "player_data\n",
    "#new_df['IDs'] = [x[0]['Id'] for x in new_df['IDs']]"
   ]
  }
 ],
 "metadata": {
  "kernelspec": {
   "display_name": "Python 3.7.7 64-bit ('tf': conda)",
   "language": "python",
   "name": "python37764bittfconda701f652fe2d24b1db31e20597dd7d119"
  },
  "language_info": {
   "codemirror_mode": {
    "name": "ipython",
    "version": 3
   },
   "file_extension": ".py",
   "mimetype": "text/x-python",
   "name": "python",
   "nbconvert_exporter": "python",
   "pygments_lexer": "ipython3",
   "version": "3.7.7-final"
  }
 },
 "nbformat": 4,
 "nbformat_minor": 4
}