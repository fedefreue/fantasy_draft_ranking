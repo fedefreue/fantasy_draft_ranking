{
 "cells": [
  {
   "cell_type": "code",
   "execution_count": 131,
   "metadata": {},
   "outputs": [],
   "source": [
    "from yahoo_oauth import OAuth2\n",
    "import pandas as pd\n",
    "import numpy as np\n",
    "import yahoo_fantasy_api as yfa\n",
    "\n",
    "#https://yahoo-fantasy-api.readthedocs.io/en/latest/yahoo_fantasy_api.html#the-league-class"
   ]
  },
  {
   "cell_type": "code",
   "execution_count": 113,
   "metadata": {
    "tags": []
   },
   "outputs": [
    {
     "output_type": "stream",
     "name": "stderr",
     "text": "[2020-08-16 17:26:02,184 DEBUG] [yahoo_oauth.oauth.__init__] Checking \n[2020-08-16 17:26:02,186 DEBUG] [yahoo_oauth.oauth.token_is_valid] ELAPSED TIME : 1051.5474870204926\n[2020-08-16 17:26:02,187 DEBUG] [yahoo_oauth.oauth.token_is_valid] TOKEN IS STILL VALID\n[2020-08-16 17:26:02,189 DEBUG] [yahoo_oauth.oauth.token_is_valid] ELAPSED TIME : 1051.5495719909668\n[2020-08-16 17:26:02,189 DEBUG] [yahoo_oauth.oauth.token_is_valid] TOKEN IS STILL VALID\n"
    }
   ],
   "source": [
    "conn = OAuth2(None, None, from_file='private.json')\n",
    "if not conn.token_is_valid():\n",
    "    conn.refresh_access_token()"
   ]
  },
  {
   "cell_type": "code",
   "execution_count": 151,
   "metadata": {},
   "outputs": [
    {
     "output_type": "execute_result",
     "data": {
      "text/plain": "   player_id             name position_type  Pass Yds  Pass TD  Int  Rush Att  \\\n0       7241       Frank Gore             O       0.0      0.0  0.0     166.0   \n1       8261  Adrian Peterson             O       0.0      0.0  0.0     211.0   \n\n   Rush Yds  Rush TD   Rec  Rec Yds  Rec TD  Ret TD  2-PT  Fum Lost  \\\n0     599.0      2.0  13.0    100.0     0.0     0.0   0.0       0.0   \n1     898.0      5.0  17.0    142.0     0.0     0.0   0.0       2.0   \n\n   Fum Ret TD  Targets  \n0         0.0     16.0  \n1         0.0     23.0  ",
      "text/html": "<div>\n<style scoped>\n    .dataframe tbody tr th:only-of-type {\n        vertical-align: middle;\n    }\n\n    .dataframe tbody tr th {\n        vertical-align: top;\n    }\n\n    .dataframe thead th {\n        text-align: right;\n    }\n</style>\n<table border=\"1\" class=\"dataframe\">\n  <thead>\n    <tr style=\"text-align: right;\">\n      <th></th>\n      <th>player_id</th>\n      <th>name</th>\n      <th>position_type</th>\n      <th>Pass Yds</th>\n      <th>Pass TD</th>\n      <th>Int</th>\n      <th>Rush Att</th>\n      <th>Rush Yds</th>\n      <th>Rush TD</th>\n      <th>Rec</th>\n      <th>Rec Yds</th>\n      <th>Rec TD</th>\n      <th>Ret TD</th>\n      <th>2-PT</th>\n      <th>Fum Lost</th>\n      <th>Fum Ret TD</th>\n      <th>Targets</th>\n    </tr>\n  </thead>\n  <tbody>\n    <tr>\n      <th>0</th>\n      <td>7241</td>\n      <td>Frank Gore</td>\n      <td>O</td>\n      <td>0.0</td>\n      <td>0.0</td>\n      <td>0.0</td>\n      <td>166.0</td>\n      <td>599.0</td>\n      <td>2.0</td>\n      <td>13.0</td>\n      <td>100.0</td>\n      <td>0.0</td>\n      <td>0.0</td>\n      <td>0.0</td>\n      <td>0.0</td>\n      <td>0.0</td>\n      <td>16.0</td>\n    </tr>\n    <tr>\n      <th>1</th>\n      <td>8261</td>\n      <td>Adrian Peterson</td>\n      <td>O</td>\n      <td>0.0</td>\n      <td>0.0</td>\n      <td>0.0</td>\n      <td>211.0</td>\n      <td>898.0</td>\n      <td>5.0</td>\n      <td>17.0</td>\n      <td>142.0</td>\n      <td>0.0</td>\n      <td>0.0</td>\n      <td>0.0</td>\n      <td>2.0</td>\n      <td>0.0</td>\n      <td>23.0</td>\n    </tr>\n  </tbody>\n</table>\n</div>"
     },
     "metadata": {},
     "execution_count": 151
    }
   ],
   "source": [
    "league = yfa.League(conn,'nfl.l.254924')\n",
    "free_agents = pd.DataFrame(league.free_agents('RB'))\n",
    "##get the free agents\n",
    "list_free_agents = list(free_agents['player_id'])\n",
    "\n",
    "players = pd.DataFrame(league.player_stats(list_free_agents, 'season', season=2019))\n",
    "#pd.DataFrame(league.player_details('Lamar Jackson'))\n",
    "players.head(2)\n"
   ]
  },
  {
   "cell_type": "code",
   "execution_count": 174,
   "metadata": {
    "tags": []
   },
   "outputs": [
    {
     "output_type": "execute_result",
     "data": {
      "text/plain": "     player_id  Points\n58       30121   361.2\n75       30423   266.5\n71       30295   230.0\n39       29238   206.1\n59       30154   203.9\n..         ...     ...\n152      32630     0.0\n78       30696     0.0\n72       30301     0.0\n203      33357     0.0\n79       30707    -4.0\n\n[204 rows x 2 columns]",
      "text/html": "<div>\n<style scoped>\n    .dataframe tbody tr th:only-of-type {\n        vertical-align: middle;\n    }\n\n    .dataframe tbody tr th {\n        vertical-align: top;\n    }\n\n    .dataframe thead th {\n        text-align: right;\n    }\n</style>\n<table border=\"1\" class=\"dataframe\">\n  <thead>\n    <tr style=\"text-align: right;\">\n      <th></th>\n      <th>player_id</th>\n      <th>Points</th>\n    </tr>\n  </thead>\n  <tbody>\n    <tr>\n      <th>58</th>\n      <td>30121</td>\n      <td>361.2</td>\n    </tr>\n    <tr>\n      <th>75</th>\n      <td>30423</td>\n      <td>266.5</td>\n    </tr>\n    <tr>\n      <th>71</th>\n      <td>30295</td>\n      <td>230.0</td>\n    </tr>\n    <tr>\n      <th>39</th>\n      <td>29238</td>\n      <td>206.1</td>\n    </tr>\n    <tr>\n      <th>59</th>\n      <td>30154</td>\n      <td>203.9</td>\n    </tr>\n    <tr>\n      <th>...</th>\n      <td>...</td>\n      <td>...</td>\n    </tr>\n    <tr>\n      <th>152</th>\n      <td>32630</td>\n      <td>0.0</td>\n    </tr>\n    <tr>\n      <th>78</th>\n      <td>30696</td>\n      <td>0.0</td>\n    </tr>\n    <tr>\n      <th>72</th>\n      <td>30301</td>\n      <td>0.0</td>\n    </tr>\n    <tr>\n      <th>203</th>\n      <td>33357</td>\n      <td>0.0</td>\n    </tr>\n    <tr>\n      <th>79</th>\n      <td>30707</td>\n      <td>-4.0</td>\n    </tr>\n  </tbody>\n</table>\n<p>204 rows × 2 columns</p>\n</div>"
     },
     "metadata": {},
     "execution_count": 174
    }
   ],
   "source": [
    "# Grab season stats and calculate points\n",
    "# Join points to prior season\n",
    "\n",
    "season = 2019\n",
    "prior_season = season - 1\n",
    "\n",
    "points = {\n",
    "    'Pass Yds': 0.04,\n",
    "    'Pass TD': 4,\n",
    "    'Int': -1,\n",
    "    'Rush Att': 0.1,\n",
    "    'Rush TD': 6,\n",
    "    'Rec': 1,\n",
    "    'Rec Yds': 0.1,\n",
    "    'Rec TD': 6,\n",
    "    'Ret TD': 6,\n",
    "    '2-PT': 2,\n",
    "    'Fum Lost': -2,\n",
    "    'Fum Ret TD': 2\n",
    "}\n",
    "\n",
    "singleplayer = players # players.loc[players['player_id'] == 7241]\n",
    "singleplayer['Points'] = singleplayer['Pass Yds'] * points['Pass Yds'] + singleplayer['Pass TD'] * points['Pass TD'] + singleplayer['Int'] * points['Int'] + singleplayer['Rush Att'] * points['Rush Att'] + singleplayer['Rush TD'] * points['Rush TD'] + singleplayer['Rec'] * points['Rec'] + singleplayer['Rec Yds'] * points['Rec Yds'] + singleplayer['Rec TD'] * points['Rec TD'] + singleplayer['Ret TD'] * points['Ret TD'] + singleplayer['2-PT'] * points['2-PT'] + singleplayer['Fum Lost'] * points['Fum Lost'] + singleplayer['Fum Ret TD'] * points['Fum Ret TD'] \n",
    "\n",
    "#singleplayer.sort_values('Points', ascending = False)\n",
    "\n",
    "thisSeasonPoints = singleplayer[['player_id','Points']].copy()\n",
    "thisSeasonPoints\n"
   ]
  },
  {
   "cell_type": "code",
   "execution_count": null,
   "metadata": {},
   "outputs": [],
   "source": []
  }
 ],
 "metadata": {
  "kernelspec": {
   "display_name": "Python 3.7.7 64-bit ('tf': conda)",
   "language": "python",
   "name": "python37764bittfconda701f652fe2d24b1db31e20597dd7d119"
  },
  "language_info": {
   "codemirror_mode": {
    "name": "ipython",
    "version": 3
   },
   "file_extension": ".py",
   "mimetype": "text/x-python",
   "name": "python",
   "nbconvert_exporter": "python",
   "pygments_lexer": "ipython3",
   "version": "3.7.7-final"
  }
 },
 "nbformat": 4,
 "nbformat_minor": 4
}