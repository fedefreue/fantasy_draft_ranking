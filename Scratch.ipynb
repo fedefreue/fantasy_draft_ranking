{
 "cells": [
  {
   "cell_type": "code",
   "execution_count": 1,
   "metadata": {},
   "outputs": [],
   "source": [
    "from yahoo_oauth import OAuth2\n",
    "import pandas as pd\n",
    "import numpy as np\n",
    "import yahoo_fantasy_api as yfa\n",
    "\n",
    "#https://yahoo-fantasy-api.readthedocs.io/en/latest/yahoo_fantasy_api.html#the-league-class"
   ]
  },
  {
   "cell_type": "code",
   "execution_count": 2,
   "metadata": {
    "tags": []
   },
   "outputs": [
    {
     "output_type": "stream",
     "name": "stderr",
     "text": "[2020-08-16 20:37:14,852 DEBUG] [yahoo_oauth.oauth.__init__] Checking \n[2020-08-16 20:37:14,855 DEBUG] [yahoo_oauth.oauth.token_is_valid] ELAPSED TIME : 12524.21569609642\n[2020-08-16 20:37:14,855 DEBUG] [yahoo_oauth.oauth.token_is_valid] TOKEN HAS EXPIRED\n[2020-08-16 20:37:14,856 DEBUG] [yahoo_oauth.oauth.refresh_access_token] REFRESHING TOKEN\n[2020-08-16 20:37:15,166 DEBUG] [yahoo_oauth.oauth.token_is_valid] ELAPSED TIME : 0.30971598625183105\n[2020-08-16 20:37:15,168 DEBUG] [yahoo_oauth.oauth.token_is_valid] TOKEN IS STILL VALID\n"
    }
   ],
   "source": [
    "conn = OAuth2(None, None, from_file='private.json')\n",
    "if not conn.token_is_valid():\n",
    "    conn.refresh_access_token()"
   ]
  },
  {
   "cell_type": "code",
   "execution_count": 6,
   "metadata": {},
   "outputs": [],
   "source": [
    "league = yfa.League(conn,'nfl.l.254924')\n",
    "free_agents = pd.DataFrame(league.free_agents('RB'))\n",
    "##get the free agents\n",
    "list_free_agents = list(free_agents['player_id'])\n",
    "\n",
    "#players = pd.DataFrame(league.player_stats(list_free_agents, 'season', season=2019))\n",
    "#pd.DataFrame(league.player_details('Lamar Jackson'))\n",
    "\n"
   ]
  },
  {
   "cell_type": "code",
   "execution_count": 13,
   "metadata": {
    "tags": []
   },
   "outputs": [],
   "source": [
    "# Grab season stats and calculate points\n",
    "# Join points to prior season\n",
    "\n",
    "thisSeason = 2018\n",
    "priorSeason = thisSeason - 1\n",
    "\n",
    "points = {\n",
    "    'Pass Yds': 0.04,\n",
    "    'Pass TD': 4,\n",
    "    'Int': -1,\n",
    "    'Rush Att': 0.1,\n",
    "    'Rush TD': 6,\n",
    "    'Rec': 1,\n",
    "    'Rec Yds': 0.1,\n",
    "    'Rec TD': 6,\n",
    "    'Ret TD': 6,\n",
    "    '2-PT': 2,\n",
    "    'Fum Lost': -2,\n",
    "    'Fum Ret TD': 2\n",
    "}\n",
    "\n",
    "thisSeasonStats = pd.DataFrame(league.player_stats(list_free_agents, 'season', season = thisSeason))\n",
    "\n",
    "# Calculate offensive points\n",
    "thisSeasonStats['Points'] = thisSeasonStats['Pass Yds'] * points['Pass Yds'] + thisSeasonStats['Pass TD'] * points['Pass TD'] + thisSeasonStats['Int'] * points['Int'] + thisSeasonStats['Rush Att'] * points['Rush Att'] + thisSeasonStats['Rush TD'] * points['Rush TD'] + thisSeasonStats['Rec'] * points['Rec'] + thisSeasonStats['Rec Yds'] * points['Rec Yds'] + thisSeasonStats['Rec TD'] * points['Rec TD'] + thisSeasonStats['Ret TD'] * points['Ret TD'] + thisSeasonStats['2-PT'] * points['2-PT'] + thisSeasonStats['Fum Lost'] * points['Fum Lost'] + thisSeasonStats['Fum Ret TD'] * points['Fum Ret TD'] \n",
    "\n",
    "thisSeasonPoints = thisSeasonStats[['player_id','Points']].copy()\n",
    "thisSeasonPoints\n",
    "\n",
    "lastSeasonStats = pd.DataFrame(league.player_stats(list_free_agents, 'season', season = priorSeason))"
   ]
  },
  {
   "cell_type": "code",
   "execution_count": 14,
   "metadata": {
    "tags": []
   },
   "outputs": [
    {
     "output_type": "execute_result",
     "data": {
      "text/plain": "     player_id  Points position_type  Pass Yds  Pass TD  Int  Rush Att  \\\n0         7241    46.0             O       0.0      0.0  0.0       0.0   \n1         8261   109.9             O       0.0      0.0  0.0       0.0   \n2         9317    91.9             O       0.0      0.0  0.0       0.0   \n3        24760    42.7             O       0.0      0.0  0.0       0.0   \n4        24815    91.8             O       0.0      0.0  0.0       0.0   \n..         ...     ...           ...       ...      ...  ...       ...   \n199      33281     0.0             O       0.0      0.0  0.0       0.0   \n200      33297     0.0             O       0.0      0.0  0.0       0.0   \n201      33309     0.0             O       0.0      0.0  0.0       0.0   \n202      33345     0.0             O       0.0      0.0  0.0       0.0   \n203      33357     0.0             O       0.0      0.0  0.0       0.0   \n\n     Rush Yds  Rush TD  Rec  Rec Yds  Rec TD  Ret TD  2-PT  Fum Lost  \\\n0         0.0      0.0  0.0      0.0     0.0     0.0   0.0       0.0   \n1         0.0      0.0  0.0      0.0     0.0     0.0   0.0       0.0   \n2         0.0      0.0  0.0      0.0     0.0     0.0   0.0       0.0   \n3         0.0      0.0  0.0      0.0     0.0     0.0   0.0       0.0   \n4         0.0      0.0  0.0      0.0     0.0     0.0   0.0       0.0   \n..        ...      ...  ...      ...     ...     ...   ...       ...   \n199       0.0      0.0  0.0      0.0     0.0     0.0   0.0       0.0   \n200       0.0      0.0  0.0      0.0     0.0     0.0   0.0       0.0   \n201       0.0      0.0  0.0      0.0     0.0     0.0   0.0       0.0   \n202       0.0      0.0  0.0      0.0     0.0     0.0   0.0       0.0   \n203       0.0      0.0  0.0      0.0     0.0     0.0   0.0       0.0   \n\n     Fum Ret TD  Targets  \n0           0.0      0.0  \n1           0.0      0.0  \n2           0.0      0.0  \n3           0.0      0.0  \n4           0.0      0.0  \n..          ...      ...  \n199         0.0      0.0  \n200         0.0      0.0  \n201         0.0      0.0  \n202         0.0      0.0  \n203         0.0      0.0  \n\n[204 rows x 17 columns]",
      "text/html": "<div>\n<style scoped>\n    .dataframe tbody tr th:only-of-type {\n        vertical-align: middle;\n    }\n\n    .dataframe tbody tr th {\n        vertical-align: top;\n    }\n\n    .dataframe thead th {\n        text-align: right;\n    }\n</style>\n<table border=\"1\" class=\"dataframe\">\n  <thead>\n    <tr style=\"text-align: right;\">\n      <th></th>\n      <th>player_id</th>\n      <th>Points</th>\n      <th>position_type</th>\n      <th>Pass Yds</th>\n      <th>Pass TD</th>\n      <th>Int</th>\n      <th>Rush Att</th>\n      <th>Rush Yds</th>\n      <th>Rush TD</th>\n      <th>Rec</th>\n      <th>Rec Yds</th>\n      <th>Rec TD</th>\n      <th>Ret TD</th>\n      <th>2-PT</th>\n      <th>Fum Lost</th>\n      <th>Fum Ret TD</th>\n      <th>Targets</th>\n    </tr>\n  </thead>\n  <tbody>\n    <tr>\n      <th>0</th>\n      <td>7241</td>\n      <td>46.0</td>\n      <td>O</td>\n      <td>0.0</td>\n      <td>0.0</td>\n      <td>0.0</td>\n      <td>0.0</td>\n      <td>0.0</td>\n      <td>0.0</td>\n      <td>0.0</td>\n      <td>0.0</td>\n      <td>0.0</td>\n      <td>0.0</td>\n      <td>0.0</td>\n      <td>0.0</td>\n      <td>0.0</td>\n      <td>0.0</td>\n    </tr>\n    <tr>\n      <th>1</th>\n      <td>8261</td>\n      <td>109.9</td>\n      <td>O</td>\n      <td>0.0</td>\n      <td>0.0</td>\n      <td>0.0</td>\n      <td>0.0</td>\n      <td>0.0</td>\n      <td>0.0</td>\n      <td>0.0</td>\n      <td>0.0</td>\n      <td>0.0</td>\n      <td>0.0</td>\n      <td>0.0</td>\n      <td>0.0</td>\n      <td>0.0</td>\n      <td>0.0</td>\n    </tr>\n    <tr>\n      <th>2</th>\n      <td>9317</td>\n      <td>91.9</td>\n      <td>O</td>\n      <td>0.0</td>\n      <td>0.0</td>\n      <td>0.0</td>\n      <td>0.0</td>\n      <td>0.0</td>\n      <td>0.0</td>\n      <td>0.0</td>\n      <td>0.0</td>\n      <td>0.0</td>\n      <td>0.0</td>\n      <td>0.0</td>\n      <td>0.0</td>\n      <td>0.0</td>\n      <td>0.0</td>\n    </tr>\n    <tr>\n      <th>3</th>\n      <td>24760</td>\n      <td>42.7</td>\n      <td>O</td>\n      <td>0.0</td>\n      <td>0.0</td>\n      <td>0.0</td>\n      <td>0.0</td>\n      <td>0.0</td>\n      <td>0.0</td>\n      <td>0.0</td>\n      <td>0.0</td>\n      <td>0.0</td>\n      <td>0.0</td>\n      <td>0.0</td>\n      <td>0.0</td>\n      <td>0.0</td>\n      <td>0.0</td>\n    </tr>\n    <tr>\n      <th>4</th>\n      <td>24815</td>\n      <td>91.8</td>\n      <td>O</td>\n      <td>0.0</td>\n      <td>0.0</td>\n      <td>0.0</td>\n      <td>0.0</td>\n      <td>0.0</td>\n      <td>0.0</td>\n      <td>0.0</td>\n      <td>0.0</td>\n      <td>0.0</td>\n      <td>0.0</td>\n      <td>0.0</td>\n      <td>0.0</td>\n      <td>0.0</td>\n      <td>0.0</td>\n    </tr>\n    <tr>\n      <th>...</th>\n      <td>...</td>\n      <td>...</td>\n      <td>...</td>\n      <td>...</td>\n      <td>...</td>\n      <td>...</td>\n      <td>...</td>\n      <td>...</td>\n      <td>...</td>\n      <td>...</td>\n      <td>...</td>\n      <td>...</td>\n      <td>...</td>\n      <td>...</td>\n      <td>...</td>\n      <td>...</td>\n      <td>...</td>\n    </tr>\n    <tr>\n      <th>199</th>\n      <td>33281</td>\n      <td>0.0</td>\n      <td>O</td>\n      <td>0.0</td>\n      <td>0.0</td>\n      <td>0.0</td>\n      <td>0.0</td>\n      <td>0.0</td>\n      <td>0.0</td>\n      <td>0.0</td>\n      <td>0.0</td>\n      <td>0.0</td>\n      <td>0.0</td>\n      <td>0.0</td>\n      <td>0.0</td>\n      <td>0.0</td>\n      <td>0.0</td>\n    </tr>\n    <tr>\n      <th>200</th>\n      <td>33297</td>\n      <td>0.0</td>\n      <td>O</td>\n      <td>0.0</td>\n      <td>0.0</td>\n      <td>0.0</td>\n      <td>0.0</td>\n      <td>0.0</td>\n      <td>0.0</td>\n      <td>0.0</td>\n      <td>0.0</td>\n      <td>0.0</td>\n      <td>0.0</td>\n      <td>0.0</td>\n      <td>0.0</td>\n      <td>0.0</td>\n      <td>0.0</td>\n    </tr>\n    <tr>\n      <th>201</th>\n      <td>33309</td>\n      <td>0.0</td>\n      <td>O</td>\n      <td>0.0</td>\n      <td>0.0</td>\n      <td>0.0</td>\n      <td>0.0</td>\n      <td>0.0</td>\n      <td>0.0</td>\n      <td>0.0</td>\n      <td>0.0</td>\n      <td>0.0</td>\n      <td>0.0</td>\n      <td>0.0</td>\n      <td>0.0</td>\n      <td>0.0</td>\n      <td>0.0</td>\n    </tr>\n    <tr>\n      <th>202</th>\n      <td>33345</td>\n      <td>0.0</td>\n      <td>O</td>\n      <td>0.0</td>\n      <td>0.0</td>\n      <td>0.0</td>\n      <td>0.0</td>\n      <td>0.0</td>\n      <td>0.0</td>\n      <td>0.0</td>\n      <td>0.0</td>\n      <td>0.0</td>\n      <td>0.0</td>\n      <td>0.0</td>\n      <td>0.0</td>\n      <td>0.0</td>\n      <td>0.0</td>\n    </tr>\n    <tr>\n      <th>203</th>\n      <td>33357</td>\n      <td>0.0</td>\n      <td>O</td>\n      <td>0.0</td>\n      <td>0.0</td>\n      <td>0.0</td>\n      <td>0.0</td>\n      <td>0.0</td>\n      <td>0.0</td>\n      <td>0.0</td>\n      <td>0.0</td>\n      <td>0.0</td>\n      <td>0.0</td>\n      <td>0.0</td>\n      <td>0.0</td>\n      <td>0.0</td>\n      <td>0.0</td>\n    </tr>\n  </tbody>\n</table>\n<p>204 rows × 17 columns</p>\n</div>"
     },
     "metadata": {},
     "execution_count": 14
    }
   ],
   "source": [
    "# join both tables together\n",
    "df = thisSeasonPoints.merge(lastSeasonStats, on = 'player_id')\n",
    "\n",
    "# drop name\n",
    "df.drop(columns = ['name'])"
   ]
  },
  {
   "cell_type": "markdown",
   "metadata": {},
   "source": []
  }
 ],
 "metadata": {
  "kernelspec": {
   "display_name": "Python 3.7.7 64-bit ('tf': conda)",
   "language": "python",
   "name": "python37764bittfconda701f652fe2d24b1db31e20597dd7d119"
  },
  "language_info": {
   "codemirror_mode": {
    "name": "ipython",
    "version": 3
   },
   "file_extension": ".py",
   "mimetype": "text/x-python",
   "name": "python",
   "nbconvert_exporter": "python",
   "pygments_lexer": "ipython3",
   "version": "3.7.7-final"
  }
 },
 "nbformat": 4,
 "nbformat_minor": 4
}